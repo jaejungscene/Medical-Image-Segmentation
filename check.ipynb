{
 "cells": [
  {
   "attachments": {},
   "cell_type": "markdown",
   "metadata": {},
   "source": [
    "# Model Check"
   ]
  },
  {
   "attachments": {},
   "cell_type": "markdown",
   "metadata": {},
   "source": [
    "### TransUnet"
   ]
  },
  {
   "cell_type": "code",
   "execution_count": 2,
   "metadata": {},
   "outputs": [
    {
     "name": "stdout",
     "output_type": "stream",
     "text": [
      "load pretrained weights.....\n",
      "#params of TransUnet: 105,277,081\n",
      "outputs shape:  torch.Size([2, 9, 224, 224])\n"
     ]
    }
   ],
   "source": [
    "\"\"\"\n",
    "TransUnet model test\n",
    "\"\"\"\n",
    "\n",
    "import torch\n",
    "from meseg.model.factory import get_model\n",
    "\n",
    "class args:\n",
    "    model_type = \"transunet\"\n",
    "    model_name = \"transunet\"\n",
    "    num_classes = 9\n",
    "    device = \"cuda:0\"\n",
    "    pretrained = True\n",
    "\n",
    "inputs = torch.randn((2,1,224,224)).cuda(args.device)\n",
    "model = get_model(args)\n",
    "print('#params of TransUnet: {:,}'.format(sum([p.data.nelement() for p in model.parameters()])))\n",
    "print(\"outputs shape: \",model(inputs).shape)"
   ]
  },
  {
   "attachments": {},
   "cell_type": "markdown",
   "metadata": {},
   "source": [
    "### TransUnet Inception - dimension 384"
   ]
  },
  {
   "cell_type": "code",
   "execution_count": 2,
   "metadata": {},
   "outputs": [
    {
     "name": "stdout",
     "output_type": "stream",
     "text": [
      "#params of TransUnet: 385,865,497\n",
      "outputs shape:  torch.Size([2, 9, 224, 224])\n"
     ]
    }
   ],
   "source": [
    "import torch\n",
    "from meseg.model.factory import get_model\n",
    "\n",
    "class args:\n",
    "    model_type = \"transunet\"\n",
    "    model_name = \"transunet_inception_d384_p3_f2_concat\"\n",
    "    num_classes = 9\n",
    "    device = \"cuda:0\"\n",
    "    pretrained = False\n",
    "\n",
    "inputs = torch.randn((2,1,224,224)).cuda(args.device)\n",
    "model = get_model(args)\n",
    "print('#params of TransUnet: {:,}'.format(sum([p.data.nelement() for p in model.parameters()])))\n",
    "print(\"outputs shape: \",model(inputs).shape)"
   ]
  },
  {
   "cell_type": "code",
   "execution_count": 3,
   "metadata": {},
   "outputs": [
    {
     "name": "stdout",
     "output_type": "stream",
     "text": [
      "#params of TransUnet: 380,524,825\n",
      "outputs shape:  torch.Size([2, 9, 224, 224])\n"
     ]
    }
   ],
   "source": [
    "import torch\n",
    "from meseg.model.factory import get_model\n",
    "\n",
    "class args:\n",
    "    model_type = \"transunet\"\n",
    "    model_name = \"transunet_inception_d384_p3_f2\"\n",
    "    num_classes = 9\n",
    "    device = \"cuda:0\"\n",
    "    pretrained = False\n",
    "\n",
    "inputs = torch.randn((2,1,224,224)).cuda(args.device)\n",
    "model = get_model(args)\n",
    "print('#params of TransUnet: {:,}'.format(sum([p.data.nelement() for p in model.parameters()])))\n",
    "print(\"outputs shape: \",model(inputs).shape)"
   ]
  },
  {
   "attachments": {},
   "cell_type": "markdown",
   "metadata": {},
   "source": [
    "### TransUnet Inception - dimension 192"
   ]
  },
  {
   "cell_type": "code",
   "execution_count": 6,
   "metadata": {},
   "outputs": [
    {
     "name": "stdout",
     "output_type": "stream",
     "text": [
      "#params of TransUnet: 108,903,001\n",
      "outputs shape:  torch.Size([2, 9, 224, 224])\n"
     ]
    }
   ],
   "source": [
    "import torch\n",
    "from meseg.model.factory import get_model\n",
    "\n",
    "class args:\n",
    "    model_type = \"transunet\"\n",
    "    model_name = \"transunet_inception_d192_p3_f2_concat\"\n",
    "    num_classes = 9\n",
    "    device = \"cuda:0\"\n",
    "    pretrained = False\n",
    "\n",
    "inputs = torch.randn((2,1,224,224)).cuda(args.device)\n",
    "model = get_model(args)\n",
    "print('#params of TransUnet: {:,}'.format(sum([p.data.nelement() for p in model.parameters()])))\n",
    "print(\"outputs shape: \",model(inputs).shape)"
   ]
  },
  {
   "cell_type": "code",
   "execution_count": 1,
   "metadata": {},
   "outputs": [
    {
     "name": "stdout",
     "output_type": "stream",
     "text": [
      "(14, 14)\n",
      "16 ===================\n",
      "#params of TransUnet: 107,559,769\n",
      "outputs shape:  torch.Size([2, 9, 224, 224])\n"
     ]
    }
   ],
   "source": [
    "import torch\n",
    "from meseg.model.factory import get_model\n",
    "\n",
    "class args:\n",
    "    model_type = \"transunet\"\n",
    "    model_name = \"transunet_inception_d192_p3_f2\"\n",
    "    num_classes = 9\n",
    "    device = \"cuda:1\"\n",
    "    pretrained = False\n",
    "\n",
    "inputs = torch.randn((2,1,224,224)).cuda(args.device)\n",
    "model = get_model(args)\n",
    "print('#params of TransUnet: {:,}'.format(sum([p.data.nelement() for p in model.parameters()])))\n",
    "print(\"outputs shape: \",model(inputs).shape)"
   ]
  },
  {
   "cell_type": "code",
   "execution_count": 13,
   "metadata": {},
   "outputs": [
    {
     "name": "stdout",
     "output_type": "stream",
     "text": [
      "None\n",
      "data/pretrained/resnet50.pth\n"
     ]
    }
   ],
   "source": [
    "import json\n",
    "with open(\"./config/train.json\") as f:\n",
    "    file = json.load(f)\n",
    "\n",
    "print(file['model_weight'].get('resnet5',None))\n",
    "print(file['model_weight']['resnet50'])"
   ]
  },
  {
   "cell_type": "code",
   "execution_count": 3,
   "metadata": {},
   "outputs": [
    {
     "ename": "AssertionError",
     "evalue": " is not supported yet. please make sure to implement ",
     "output_type": "error",
     "traceback": [
      "\u001b[0;31m---------------------------------------------------------------------------\u001b[0m",
      "\u001b[0;31mAssertionError\u001b[0m                            Traceback (most recent call last)",
      "\u001b[1;32m/home/ljj0512/private/workspace/Medical/segmentation/check.ipynb Cell 11\u001b[0m in \u001b[0;36m<cell line: 2>\u001b[0;34m()\u001b[0m\n\u001b[1;32m      <a href='vscode-notebook-cell://ssh-remote%2B202.30.30.19/home/ljj0512/private/workspace/Medical/segmentation/check.ipynb#X13sdnNjb2RlLXJlbW90ZQ%3D%3D?line=0'>1</a>\u001b[0m model \u001b[39m=\u001b[39m \u001b[39m\"\u001b[39m\u001b[39m\"\u001b[39m\n\u001b[1;32m      <a href='vscode-notebook-cell://ssh-remote%2B202.30.30.19/home/ljj0512/private/workspace/Medical/segmentation/check.ipynb#X13sdnNjb2RlLXJlbW90ZQ%3D%3D?line=1'>2</a>\u001b[0m \u001b[39mmatch\u001b[39;00m model:\n\u001b[1;32m      <a href='vscode-notebook-cell://ssh-remote%2B202.30.30.19/home/ljj0512/private/workspace/Medical/segmentation/check.ipynb#X13sdnNjb2RlLXJlbW90ZQ%3D%3D?line=2'>3</a>\u001b[0m     \u001b[39mcase\u001b[39;00m \u001b[39m\"\u001b[39m\u001b[39mvit\u001b[39m\u001b[39m\"\u001b[39m:\n\u001b[1;32m      <a href='vscode-notebook-cell://ssh-remote%2B202.30.30.19/home/ljj0512/private/workspace/Medical/segmentation/check.ipynb#X13sdnNjb2RlLXJlbW90ZQ%3D%3D?line=3'>4</a>\u001b[0m         \u001b[39mprint\u001b[39m(\u001b[39m\"\u001b[39m\u001b[39mvit!!!!\u001b[39m\u001b[39m\"\u001b[39m)\n\u001b[1;32m      <a href='vscode-notebook-cell://ssh-remote%2B202.30.30.19/home/ljj0512/private/workspace/Medical/segmentation/check.ipynb#X13sdnNjb2RlLXJlbW90ZQ%3D%3D?line=4'>5</a>\u001b[0m     \u001b[39mcase\u001b[39;00m \u001b[39m\"\u001b[39m\u001b[39mtransunet\u001b[39m\u001b[39m\"\u001b[39m:\n\u001b[1;32m      <a href='vscode-notebook-cell://ssh-remote%2B202.30.30.19/home/ljj0512/private/workspace/Medical/segmentation/check.ipynb#X13sdnNjb2RlLXJlbW90ZQ%3D%3D?line=5'>6</a>\u001b[0m         \u001b[39mprint\u001b[39m(\u001b[39m\"\u001b[39m\u001b[39mtranunet!!!\u001b[39m\u001b[39m\"\u001b[39m)\n\u001b[1;32m      <a href='vscode-notebook-cell://ssh-remote%2B202.30.30.19/home/ljj0512/private/workspace/Medical/segmentation/check.ipynb#X13sdnNjb2RlLXJlbW90ZQ%3D%3D?line=6'>7</a>\u001b[0m     \u001b[39mcase\u001b[39;00m \u001b[39m_\u001b[39;00m:\n\u001b[0;32m----> <a href='vscode-notebook-cell://ssh-remote%2B202.30.30.19/home/ljj0512/private/workspace/Medical/segmentation/check.ipynb#X13sdnNjb2RlLXJlbW90ZQ%3D%3D?line=7'>8</a>\u001b[0m         \u001b[39massert\u001b[39;00m \u001b[39mFalse\u001b[39;00m,\u001b[39mf\u001b[39m\u001b[39m\"\u001b[39m\u001b[39m{\u001b[39;00mmodel\u001b[39m}\u001b[39;00m\u001b[39m is not supported yet. please make sure to implement \u001b[39m\u001b[39m{\u001b[39;00mmodel\u001b[39m}\u001b[39;00m\u001b[39m\"\u001b[39m\n",
      "\u001b[0;31mAssertionError\u001b[0m:  is not supported yet. please make sure to implement "
     ]
    }
   ],
   "source": [
    "model = \"\"\n",
    "match model:\n",
    "    case \"vit\":\n",
    "        print(\"vit!!!!\")\n",
    "    case \"transunet\":\n",
    "        print(\"tranunet!!!\")\n",
    "    case _:\n",
    "        assert False, f\"{model} is not supported yet. please make sure to implement {model}\""
   ]
  }
 ],
 "metadata": {
  "kernelspec": {
   "display_name": "data-mining",
   "language": "python",
   "name": "python3"
  },
  "language_info": {
   "codemirror_mode": {
    "name": "ipython",
    "version": 3
   },
   "file_extension": ".py",
   "mimetype": "text/x-python",
   "name": "python",
   "nbconvert_exporter": "python",
   "pygments_lexer": "ipython3",
   "version": "3.10.4"
  },
  "orig_nbformat": 4,
  "vscode": {
   "interpreter": {
    "hash": "20bc2612d0fd8be19af488bbfe75d6267421c3080aa839bfd424fa57a3ef4dc6"
   }
  }
 },
 "nbformat": 4,
 "nbformat_minor": 2
}
